{
 "cells": [
  {
   "cell_type": "code",
   "execution_count": null,
   "metadata": {
    "collapsed": true
   },
   "outputs": [],
   "source": [
    "Exponencial Metodo Inversion"
   ]
  },
  {
   "cell_type": "code",
   "execution_count": 6,
   "metadata": {
    "collapsed": true
   },
   "outputs": [],
   "source": [
    "#Edgar Salamanca\n",
    "\n",
    "import matplotlib.pyplot as plt\n",
    "import math\n",
    "\n",
    "def  congruencial(x0):\n",
    "    a = 1664525\n",
    "    b = 1013904223\n",
    "    m = 2**32\n",
    "    xi = x0\n",
    "    ui =0\n",
    "    xi = (a*xi + b)%(m)\n",
    "    ui = float(xi)/float(m)\n",
    "\n",
    "    return ui,xi\n",
    "\n",
    "def expon(iteraciones,landa,semilla):\n",
    "    x0 = semilla\n",
    "    expon = []\n",
    "    for i in range(iteraciones):\n",
    "        ui,x0 = congruencial(x0)\n",
    "        #print ui\n",
    "        ex = (-math.log(1-ui))/landa\n",
    "        expon.append(ex)\n",
    "        #expon.append((-math.log(1-ui))/landa)\n",
    "    return expon\n",
    "\n",
    "def expteorico(iteraciones,landa):\n",
    "    teoricoX = []\n",
    "    teoricoY = []\n",
    "    for i in range(iteraciones):\n",
    "        x = float(float(i)/100.0)\n",
    "        #print(x)\n",
    "        teoricoY.append(landa*math.exp(-landa*x))\n",
    "        teoricoX.append(x)\n",
    "    return teoricoX,teoricoY\n",
    "        \n",
    "iteraciones = 100000\n",
    "landa = 5\n",
    "semilla =5\n",
    "\n",
    "ax = plt.gca()\n",
    "expon = expon(iteraciones,landa,semilla)\n",
    "teoricoX,teoricoY = expteorico(100,landa)\n",
    "\n",
    "count, bins, ignored = plt.hist(expon, 25, normed=True)\n",
    "ax.plot(teoricoX,teoricoY,'blue')\n",
    "plt.show()\n"
   ]
  },
  {
   "cell_type": "code",
   "execution_count": null,
   "metadata": {
    "collapsed": true
   },
   "outputs": [],
   "source": [
    "Generación de v.a. continuas de las distribuciones de probabilidad Uniforme"
   ]
  },
  {
   "cell_type": "code",
   "execution_count": 5,
   "metadata": {
    "collapsed": true
   },
   "outputs": [],
   "source": [
    "#Edgar Salamanca\n",
    "\n",
    "import matplotlib.pyplot as plt\n",
    "import math\n",
    "\n",
    "def  congruencial(x0):\n",
    "    a = 1664525\n",
    "    b = 1013904223\n",
    "    m = 2**32\n",
    "    xi = x0\n",
    "    ui =0\n",
    "    xi = (a*xi + b)%(m)\n",
    "    ui = float(xi)/float(m)\n",
    "\n",
    "    return ui,xi\n",
    "\n",
    "def uniforme(iteraciones,a,b,semilla):\n",
    "    x0 = semilla\n",
    "    uniforme = []\n",
    "    for i in range(iteraciones):\n",
    "        ui,x0 = congruencial(x0)\n",
    "        #print ui\n",
    "        uni = a + ui*(b-a) \n",
    "        uniforme.append(uni)\n",
    "    return uniforme\n",
    "\n",
    "def uniformeteorico(iteraciones,a,b):\n",
    "    teoricoX = []\n",
    "    teoricoY = []\n",
    "    b = b+1\n",
    "    tam = 3\n",
    "    \n",
    "    for i in range(tam):\n",
    "        teoricoY.append(0)\n",
    "        teoricoX.append(a-2+i)\n",
    "    \n",
    "    for i in range(a,b):\n",
    "        x =i\n",
    "        teoricoY.append(1/(b-a))\n",
    "        teoricoX.append(x)\n",
    "    for i in range(tam):\n",
    "        teoricoY.append(0)\n",
    "        teoricoX.append(b-1+i)\n",
    "        \n",
    "    return teoricoX,teoricoY\n",
    "    \n",
    "iteraciones = 1000\n",
    "a = 5\n",
    "b = 10\n",
    "semilla =10\n",
    "\n",
    "ax = plt.gca()\n",
    "uniforme = uniforme(iteraciones,a,b,semilla)\n",
    "\n",
    "teoricoX,teoricoY = uniformeteorico(100,a,b)\n",
    "count, bins, ignored = plt.hist(uniforme, 25, normed=True,color = 'orange')\n",
    "ax.plot(teoricoX,teoricoY,'blue',linewidth=2.5)\n",
    "plt.show()"
   ]
  },
  {
   "cell_type": "code",
   "execution_count": null,
   "metadata": {
    "collapsed": true
   },
   "outputs": [],
   "source": [
    "Generación de v.a. continuas de las distribuciones de Weibull"
   ]
  },
  {
   "cell_type": "code",
   "execution_count": 9,
   "metadata": {
    "collapsed": true
   },
   "outputs": [],
   "source": [
    "import matplotlib.pyplot as plt\n",
    "import math\n",
    "\n",
    "def  congruencial(x0):\n",
    "    a = 1664525\n",
    "    b = 1013904223\n",
    "    m = 2**32\n",
    "    xi = x0\n",
    "    ui =0\n",
    "    xi = (a*xi + b)%(m)\n",
    "    ui = float(xi)/float(m)\n",
    "\n",
    "    return ui,xi\n",
    "\n",
    "def weibull(iteraciones,k,varlambda,semilla):\n",
    "    x0 = semilla\n",
    "    x = []\n",
    "    for i in range(iteraciones):\n",
    "        p,x0 = congruencial(x0)\n",
    "        prov = varlambda*(-math.log(1-p))**(1/k)\n",
    "        x.append(prov)\n",
    "    return x\n",
    "\n",
    "def weibullteorico(iteraciones,k,varlambda):\n",
    "    teoricoX = []\n",
    "    teoricoY = []\n",
    "    iteraciones = iteraciones*100\n",
    "    for i in range(iteraciones):\n",
    "      \n",
    "        x = float(float(i)/100.0)\n",
    "        \n",
    "        numY = (k/varlambda)*(x/varlambda)**(k-1)*math.exp(-(x/varlambda)**k)\n",
    "        teoricoY.append(numY)\n",
    "        teoricoX.append(x)\n",
    "        \n",
    "    return teoricoX,teoricoY\n",
    "    \n",
    "iteraciones = 1000\n",
    "#u = 5\n",
    "\n",
    "varlambda = 1\n",
    "k = 1.5\n",
    "semilla = 10\n",
    "rango = 2\n",
    "ax = plt.gca()\n",
    "weibull = weibull(iteraciones,k,varlambda,semilla)\n",
    "#print(logistica)\n",
    "weibullX,weibullY = weibullteorico(rango,k,varlambda)\n",
    "#print(teoricoY)\n",
    "count, bins, ignored = plt.hist(weibull, 25, normed=True,color = 'orange')\n",
    "ax.plot(weibullX,weibullY,'black',linewidth=2.5)\n",
    "plt.show()"
   ]
  },
  {
   "cell_type": "code",
   "execution_count": null,
   "metadata": {
    "collapsed": true
   },
   "outputs": [],
   "source": []
  }
 ],
 "metadata": {
  "kernelspec": {
   "display_name": "Python [Root]",
   "language": "python",
   "name": "Python [Root]"
  },
  "language_info": {
   "codemirror_mode": {
    "name": "ipython",
    "version": 3
   },
   "file_extension": ".py",
   "mimetype": "text/x-python",
   "name": "python",
   "nbconvert_exporter": "python",
   "pygments_lexer": "ipython3",
   "version": "3.5.2"
  }
 },
 "nbformat": 4,
 "nbformat_minor": 0
}
