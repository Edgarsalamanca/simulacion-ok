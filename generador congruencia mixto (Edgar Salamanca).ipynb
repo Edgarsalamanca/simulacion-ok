{
 "cells": [
  {
   "cell_type": "code",
   "execution_count": 2,
   "metadata": {
    "collapsed": false
   },
   "outputs": [
    {
     "name": "stdout",
     "output_type": "stream",
     "text": [
      "Ingrese el parametro a:1664525\n",
      "Ingrese el parametro b:1013904223\n",
      "Ingrese el parametro m:2**32\n",
      "Ingrese la semilla:9\n",
      "Ingrese el numero de numeros aleatorios que desea generar:10\n"
     ]
    },
    {
     "data": {
      "text/plain": [
       "[0.23955594468861818,\n",
       " 0.094900795025751,\n",
       " 0.9819082110188901,\n",
       " 0.0010141909588128328,\n",
       " 0.3822736907750368,\n",
       " 0.3512052909936756,\n",
       " 0.22305922070518136,\n",
       " 0.885412264848128,\n",
       " 0.08621430303901434,\n",
       " 0.09883398818783462]"
      ]
     },
     "execution_count": 2,
     "metadata": {},
     "output_type": "execute_result"
    }
   ],
   "source": [
    "#Edgar Salamanca\n",
    "\n",
    "import numpy as np\n",
    "import matplotlib.pyplot as plt\n",
    "import math\n",
    "def congruencial(a,b,m,x0,n):\n",
    "    xn=0.0\n",
    "    un=0.0\n",
    "    list = []\n",
    "    for i in range(0,n):\n",
    "        xn=(a*x0 + b)%m\n",
    "        un=xn/float(m)\n",
    "        #print un\n",
    "        list.insert(i,un)\n",
    "        x0=xn\n",
    "    return list\n",
    "a= input('Ingrese el parametro a:')\n",
    "b= input('Ingrese el parametro b:')\n",
    "m= input('Ingrese el parametro m:')\n",
    "x0= input('Ingrese la semilla:')\n",
    "muestra= input('Ingrese el numero de numeros aleatorios que desea generar:')\n",
    "congruencial(a,b,m,x0,muestra)\n",
    "\n",
    "#a 1664525\n",
    "#b 1013904223\n",
    "#m 2**32\n",
    "#semilla 9"
   ]
  },
  {
   "cell_type": "code",
   "execution_count": null,
   "metadata": {
    "collapsed": true
   },
   "outputs": [],
   "source": []
  }
 ],
 "metadata": {
  "anaconda-cloud": {},
  "kernelspec": {
   "display_name": "Python [Root]",
   "language": "python",
   "name": "Python [Root]"
  },
  "language_info": {
   "codemirror_mode": {
    "name": "ipython",
    "version": 3
   },
   "file_extension": ".py",
   "mimetype": "text/x-python",
   "name": "python",
   "nbconvert_exporter": "python",
   "pygments_lexer": "ipython3",
   "version": "3.5.2"
  }
 },
 "nbformat": 4,
 "nbformat_minor": 0
}
