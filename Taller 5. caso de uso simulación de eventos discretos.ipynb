{
 "cells": [
  {
   "cell_type": "code",
   "execution_count": null,
   "metadata": {
    "collapsed": true
   },
   "outputs": [],
   "source": [
    "# EDGAR SALAMANCA"
   ]
  },
  {
   "cell_type": "code",
   "execution_count": null,
   "metadata": {
    "collapsed": true
   },
   "outputs": [],
   "source": [
    "# CONGRUENCIAL"
   ]
  },
  {
   "cell_type": "code",
   "execution_count": null,
   "metadata": {
    "collapsed": true
   },
   "outputs": [],
   "source": [
    "%matplotlib inline \n",
    "import matplotlib.pyplot as plt\n",
    "import math\n",
    "\n",
    "def  congruencial(x0):\n",
    "    a = 1664525\n",
    "    b = 1013904223\n",
    "    m = 2**32\n",
    "    xi = x0\n",
    "    ui =0\n",
    "    xi = (a*xi + b)%(m)\n",
    "    ui = float(xi)/float(m)\n",
    "\n",
    "    return ui,xi"
   ]
  },
  {
   "cell_type": "code",
   "execution_count": null,
   "metadata": {
    "collapsed": true
   },
   "outputs": [],
   "source": [
    "#EXPONENCIAL"
   ]
  },
  {
   "cell_type": "code",
   "execution_count": null,
   "metadata": {
    "collapsed": true
   },
   "outputs": [],
   "source": [
    "def expon(landa,x0):\n",
    "    ui,x0 = congruencial(x0)   \n",
    "    exp = (-math.log(1-ui))/landa   \n",
    "    return exp,x0 "
   ]
  },
  {
   "cell_type": "code",
   "execution_count": null,
   "metadata": {
    "collapsed": true
   },
   "outputs": [],
   "source": [
    "#UNIFORME"
   ]
  },
  {
   "cell_type": "code",
   "execution_count": null,
   "metadata": {
    "collapsed": true
   },
   "outputs": [],
   "source": [
    "def uniforme(a,b,x0):\n",
    "    ui,x0 = congruencial(x0)\n",
    "    uni = a + ui*(b-a)     \n",
    "    return uni,x0"
   ]
  },
  {
   "cell_type": "code",
   "execution_count": null,
   "metadata": {
    "collapsed": true
   },
   "outputs": [],
   "source": [
    "#PROMEDIO"
   ]
  },
  {
   "cell_type": "code",
   "execution_count": null,
   "metadata": {
    "collapsed": true
   },
   "outputs": [],
   "source": [
    "\n",
    "def promedio(lista):\n",
    "    sum=0.0\n",
    "    for i in range(0,len(lista)):\n",
    "        sum=sum+lista[i]\n",
    "        \n",
    "    return sum/len(lista)"
   ]
  },
  {
   "cell_type": "code",
   "execution_count": null,
   "metadata": {
    "collapsed": true
   },
   "outputs": [],
   "source": [
    "import random\n",
    "\n",
    "import simpy\n",
    "\n",
    "\n",
    "RANDOM_SEED = 42\n",
    "x0uniform =RANDOM_SEED\n",
    "x0expon  = RANDOM_SEED\n",
    "\n",
    "\n",
    "#NEW_CUSTOMERS = 5  # Total number of customers - Número total de clientes\n",
    "#INTERVAL_CUSTOMERS = 10.0  # Generate new customers roughly every x seconds -Generar nuevos clientes aproximadamente cada x segundos\n",
    "#MIN_PATIENCE = 1  # Min. customer patience - Mini. paciencia de los clientes\n",
    "#MAX_PATIENCE = 3  # Max. customer patience - Max. paciencia de los clientes\n",
    "\n",
    "\n",
    "NEW_CUSTOMERS = 5\n",
    "INTERVAL_CUSTOMERS =5 \n",
    "MIN_PATIENCE = 4\n",
    "MAX_PATIENCE = 10\n",
    "time_in_bank = 13\n",
    "numeroDeClientes = 0\n",
    "numeroClientesAtendidos = 0\n",
    "numeroClientesAbandonaron = 0\n",
    "tiempoPromedioEspera = 0\n",
    "tamfila = 0\n",
    "tamanoPromedioFila = []\n",
    "tiempo = []\n",
    "clientEnBanc = 0\n",
    "clientesEnElBanco = []\n",
    "def source(env, number, interval, counter):\n",
    "    \"\"\"Source generates customers randomly\"\"\"\n",
    "    x0 = RANDOM_SEED\n",
    "    global time_in_bank\n",
    "    for i in range(number):\n",
    "        #c = customer(env,'Customer%02d' % i, counter, time_in_bank=12.0)\n",
    "        c = customer(env,'Customer%02d' % i, counter, time_in_bank)\n",
    "        env.process(c)\n",
    "        #t = random.expovariate(1.0 / interval) \n",
    "        exp,x0 = expon((1.0/interval),x0)\n",
    "        t = exp\n",
    "        yield env.timeout(t)\n",
    "    \n",
    "    \n",
    "\n",
    "def customer(env, name, counter, time_in_bank):\n",
    "    #x0uniform = RANDOM_SEED\n",
    "    global x0expon\n",
    "    global x0uniform\n",
    "    global numeroDeClientes \n",
    "    global numeroClientesAtendidos\n",
    "    global numeroClientesAbandonaron\n",
    "    global tamfila\n",
    "    global tamanoPromedioFila\n",
    "    global tiempo\n",
    "    global clientEnBanc\n",
    "    global clientesEnElBanco\n",
    "    \"\"\"Customer arrives, is served and leaves.\"\"\"\n",
    "    arrive = env.now\n",
    "    print('%7.4f %s: Here I am' % (arrive, name))\n",
    "    \n",
    "    numeroDeClientes +=1\n",
    "    clientEnBanc +=1\n",
    "    clientesEnElBanco.append(clientEnBanc)\n",
    "    #tiempo.append(arrive)\n",
    "    tamfila+=1\n",
    "    tamanoPromedioFila.append(tamfila)\n",
    "    with counter.request() as req:\n",
    "        #patience = random.uniform(MIN_PATIENCE, MIN_PATIENCE)\n",
    "        patience,x0uniform = uniforme(MIN_PATIENCE,MIN_PATIENCE,x0uniform)\n",
    "        #print(x0uniform)\n",
    "        # Wait for the counter or abort at the end of our tether\n",
    "        results = yield req | env.timeout(patience)\n",
    "\n",
    "        wait = env.now - arrive\n",
    "\n",
    "        if req in results:\n",
    "            # We got to the counter\n",
    "            print('%7.4f %s: Waited %6.3f' % (env.now, name, wait))\n",
    "            tamfila-=1\n",
    "            tamanoPromedioFila.append(tamfila)\n",
    "           \n",
    "            exp,x0expon = expon((1.0/time_in_bank),x0expon)\n",
    "            tib = exp            \n",
    "            yield env.timeout(tib)    \n",
    "            \n",
    "            print('%7.4f %s: Finished' % (env.now, name))\n",
    "           \n",
    "            \n",
    "            numeroClientesAtendidos += 1\n",
    "        else:\n",
    "            # We reneged\n",
    "            print('%7.4f %s: RENEGED after %6.3f' % (env.now, name, wait))\n",
    "            numeroClientesAbandonaron += 1\n",
    "            tamfila-=1\n",
    "            tamanoPromedioFila.append(tamfila)\n",
    "        clientEnBanc -=1\n",
    "        clientesEnElBanco.append(clientEnBanc)\n",
    "        #tiempo.append(arrive)\n",
    "\n",
    "            \n",
    "            \n",
    "# Setup and start the simulation\n",
    "print('Bank renege')\n",
    "random.seed(RANDOM_SEED)\n",
    "env = simpy.Environment()\n",
    "\n",
    "# Start processes and run\n",
    "counter = simpy.Resource(env, capacity=1)\n",
    "env.process(source(env, NEW_CUSTOMERS, INTERVAL_CUSTOMERS, counter))\n",
    "env.run()\n",
    "print('numero De clientes  = %d'%(numeroDeClientes))\n",
    "print('numero De  Clientes Atendidos = %d'%(numeroClientesAtendidos))\n",
    "print('numero De Clientes que Abandonaron = %d'%(numeroClientesAbandonaron))\n",
    "#print('tamanoPromedioFila = %d'%(tamanoPromedioFila))\n",
    "print('personas en la fila')\n",
    "print(tamanoPromedioFila)\n",
    "print('clientes en el banco')\n",
    "print(clientesEnElBanco)\n",
    "#print(tiempo)\n",
    "prom = promedio(tamanoPromedioFila)\n",
    "print('personas primedio en fila')\n",
    "prom =  math.ceil(prom)\n",
    "print(prom)\n",
    "ax = plt.gca()\n",
    "ax.plot(tamanoPromedioFila,'',clientesEnElBanco,'')\n",
    "plt.show()"
   ]
  }
 ],
 "metadata": {
  "kernelspec": {
   "display_name": "Python [Root]",
   "language": "python",
   "name": "Python [Root]"
  },
  "language_info": {
   "codemirror_mode": {
    "name": "ipython",
    "version": 3
   },
   "file_extension": ".py",
   "mimetype": "text/x-python",
   "name": "python",
   "nbconvert_exporter": "python",
   "pygments_lexer": "ipython3",
   "version": "3.5.2"
  }
 },
 "nbformat": 4,
 "nbformat_minor": 0
}
