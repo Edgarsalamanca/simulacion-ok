{
 "cells": [
  {
   "cell_type": "code",
   "execution_count": 10,
   "metadata": {
    "collapsed": false
   },
   "outputs": [
    {
     "name": "stdout",
     "output_type": "stream",
     "text": [
      "0.9268590501138759\n"
     ]
    }
   ],
   "source": [
    "#Edgar Salamanca\n",
    "\n",
    "import matplotlib.pyplot as plt\n",
    "import math\n",
    "\n",
    "def  congruencial(x0):\n",
    "    a = 1664525\n",
    "    b = 1013904223\n",
    "    m = 2**32\n",
    "    xi = x0\n",
    "    ui =0\n",
    "    xi = (a*xi + b)%(m)\n",
    "    ui = float(xi)/float(m)\n",
    "\n",
    "    return xi,ui\n",
    "\n",
    "def Yi(n,semilla):\n",
    "    xi = semilla \n",
    "    yi =[]\n",
    "    for i in range(n):\n",
    "        xi,ui = congruencial(xi)\n",
    "        x = ui*2        \n",
    "        y = 2*math.exp(-x**2)\n",
    "        yi.append(y)\n",
    "        \n",
    "    return yi\n",
    "\n",
    "def sumatoria(yi):\n",
    "    suma=0    \n",
    "    for x in yi:\n",
    "        suma=suma+x\n",
    "    \n",
    "    total = (1/len(yi))*suma\n",
    "    return total\n",
    "\n",
    "iteraciones = 50\n",
    "semilla = 9\n",
    "yi = Yi(iteraciones,semilla)\n",
    "\n",
    "suma = sumatoria(yi)\n",
    "print(suma)"
   ]
  },
  {
   "cell_type": "code",
   "execution_count": null,
   "metadata": {
    "collapsed": true
   },
   "outputs": [],
   "source": [
    "Método de la inversión para generar variables aleatorias de una distribución de probabilidad discreta."
   ]
  },
  {
   "cell_type": "code",
   "execution_count": 17,
   "metadata": {
    "collapsed": false
   },
   "outputs": [
    {
     "name": "stdout",
     "output_type": "stream",
     "text": [
      "[0.05, 0.2, 0.5, 0.8, 0.9500000000000001, 1.0]\n",
      "[3, 2, 6, 1, 3, 3, 3, 5, 2, 2, 5, 5, 3, 3, 2, 4, 2, 3, 2, 4, 4, 4, 3, 5, 2, 3, 3, 4, 4, 4, 4, 3, 1, 5, 4, 5, 3, 4, 2, 5, 5, 2, 4, 5, 4, 2, 4, 2, 6, 4, 5, 5, 3, 3, 2, 3, 2, 4, 4, 3, 6, 5, 2, 5, 3, 2, 5, 5, 2, 2, 5, 4, 3, 3, 5, 1, 2, 6, 6, 3, 4, 3, 4, 2, 4, 2, 1, 3, 4, 4, 3, 3, 1, 4, 4, 4, 4, 3, 3, 3]\n"
     ]
    },
    {
     "data": {
      "image/png": "[encoded data removed]",
      "text/plain": [
       "<matplotlib.figure.Figure at 0x7a111d0>"
      ]
     },
     "metadata": {},
     "output_type": "display_data"
    }
   ],
   "source": [
    "import matplotlib.pyplot as plt\n",
    "import math\n",
    "import numpy as np\n",
    "\n",
    "def  congruencial(x0):\n",
    "    a = 1664525\n",
    "    b = 1013904223\n",
    "    m = 2**32\n",
    "    xi = x0\n",
    "    ui =0\n",
    "    xi = (a*xi + b)%(m)\n",
    "    ui = float(xi)/float(m)\n",
    "\n",
    "    return xi,ui\n",
    "\n",
    "\n",
    "distribucion = [0.05,0.15,0.3,0.3,0.15,0.05]\n",
    "\n",
    "def acumulada(dis):\n",
    "    acum = []\n",
    "    for x in range(len(dis)):\n",
    "        if(x == 0):\n",
    "            acum.append(dis[x])\n",
    "        else:\n",
    "            suma = acum[x-1]+dis[x]\n",
    "            acum.append(suma)\n",
    "        \n",
    "    return acum\n",
    "\n",
    "def inversion(acum,semilla,itera):\n",
    "    inver = []\n",
    "    xi = semilla\n",
    "    for i in range(itera):\n",
    "        xi,random = congruencial(xi)\n",
    "        #print('iteracion : ')\n",
    "        #print(random)\n",
    "        for x in range(len(acum)):\n",
    "            if(random <=acum[x]):\n",
    "                #print(x+1)\n",
    "                inver.append(x+1) \n",
    "                break\n",
    "    return inver\n",
    "        \n",
    "            \n",
    "acum = acumulada(distribucion)\n",
    "\n",
    "print(acum)\n",
    "semilla = 9\n",
    "metodo_inversion = inversion(acum,semilla,100)\n",
    "print(metodo_inversion)\n",
    "\n",
    "count, bins, ignored = plt.hist(metodo_inversion, 25, normed=True)\n",
    "plt.plot(bins, np.ones_like(bins), linewidth=2, color='y')\n",
    "plt.show()"
   ]
  },
  {
   "cell_type": "code",
   "execution_count": null,
   "metadata": {
    "collapsed": true
   },
   "outputs": [],
   "source": []
  }
 ],
 "metadata": {
  "kernelspec": {
   "display_name": "Python [Root]",
   "language": "python",
   "name": "Python [Root]"
  },
  "language_info": {
   "codemirror_mode": {
    "name": "ipython",
    "version": 3
   },
   "file_extension": ".py",
   "mimetype": "text/x-python",
   "name": "python",
   "nbconvert_exporter": "python",
   "pygments_lexer": "ipython3",
   "version": "3.5.2"
  }
 },
 "nbformat": 4,
 "nbformat_minor": 0
}
